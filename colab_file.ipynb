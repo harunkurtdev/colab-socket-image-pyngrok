{
  "nbformat": 4,
  "nbformat_minor": 0,
  "metadata": {
    "accelerator": "GPU",
    "colab": {
      "name": "Untitled1.ipynb",
      "provenance": [],
      "collapsed_sections": [],
      "include_colab_link": true
    },
    "kernelspec": {
      "display_name": "Python 3",
      "name": "python3"
    },
    "language_info": {
      "name": "python"
    }
  },
  "cells": [
    {
      "cell_type": "markdown",
      "metadata": {
        "id": "view-in-github",
        "colab_type": "text"
      },
      "source": [
        "<a href=\"https://colab.research.google.com/github/harunlakodla/colab-socket-image-pyngrok/blob/main/colab_file.ipynb\" target=\"_parent\"><img src=\"https://colab.research.google.com/assets/colab-badge.svg\" alt=\"Open In Colab\"/></a>"
      ]
    },
    {
      "cell_type": "code",
      "metadata": {
        "id": "DYbzn0FJV9Rt"
      },
      "source": [
        "!pip install pyngrok\n",
        "!git clone https://github.com/AlexeyAB/darknet\n",
        "!pip install websockets\n",
        "!pip install websocket-client\n",
        "!pip install adafruit-io"
      ],
      "execution_count": null,
      "outputs": []
    },
    {
      "cell_type": "code",
      "metadata": {
        "id": "Tm8mA5sRREiq"
      },
      "source": [
        "from Adafruit_IO import Client, RequestError, Feed\n",
        "\n",
        "\n",
        "ADAFRUIT_IO_KEY = ''\n",
        "ADAFRUIT_IO_USERNAME = ''\n",
        "aio = Client(ADAFRUIT_IO_USERNAME, ADAFRUIT_IO_KEY)\n",
        "\n",
        "try:\n",
        "    server_url = aio.feeds('server-url')\n",
        "except RequestError: # Doesn't exist, create a new feed\n",
        "    feed = Feed(name=\"server-url\")\n",
        "    server_url = aio.create_feed(feed)\n",
        "\n",
        "try:\n",
        "    server_port = aio.feeds('server-port')\n",
        "except RequestError: # Doesn't exist, create a new feed\n",
        "    feed = Feed(name=\"server-port\")\n",
        "    server_port = aio.create_feed(feed)\n"
      ],
      "execution_count": null,
      "outputs": []
    },
    {
      "cell_type": "code",
      "metadata": {
        "colab": {
          "base_uri": "https://localhost:8080/"
        },
        "id": "4QZfm0tBWuRZ",
        "outputId": "11439f0d-f964-46c0-9ce8-35b9400e99d0"
      },
      "source": [
        "from google.colab import drive\n",
        "drive.mount(\"/content/gdrive\")"
      ],
      "execution_count": null,
      "outputs": [
        {
          "output_type": "stream",
          "text": [
            "Mounted at /content/gdrive\n"
          ],
          "name": "stdout"
        }
      ]
    },
    {
      "cell_type": "code",
      "metadata": {
        "id": "UZ-3u_1saGB4"
      },
      "source": [
        "!ln -s /content/gdrive/My\\ Drive/ /mydrive\n",
        "#!ls /mydrive"
      ],
      "execution_count": null,
      "outputs": []
    },
    {
      "cell_type": "code",
      "metadata": {
        "colab": {
          "base_uri": "https://localhost:8080/"
        },
        "id": "T37NY9H4ZkRt",
        "outputId": "c7f7a419-9861-4d45-f11b-7d93930ae59a"
      },
      "source": [
        "!mkdir /mydrive/yolov3\n",
        "!ls"
      ],
      "execution_count": null,
      "outputs": [
        {
          "output_type": "stream",
          "text": [
            "mkdir: cannot create directory ‘/mydrive/yolov3’: File exists\n",
            "darknet  gdrive  sample_data\n"
          ],
          "name": "stdout"
        }
      ]
    },
    {
      "cell_type": "code",
      "metadata": {
        "colab": {
          "base_uri": "https://localhost:8080/"
        },
        "id": "2Ni3WoZ4XTHH",
        "outputId": "dd31c849-769c-4f78-da8e-8b0bb502211c"
      },
      "source": [
        "%cd darknet\n",
        "!sed -i 's/OPENCV=0/OPENCV=1/' Makefile\n",
        "!sed -i 's/GPU=0/GPU=1/' Makefile\n",
        "!sed -i 's/CUDNN=0/CUDNN=1/' Makefile"
      ],
      "execution_count": null,
      "outputs": [
        {
          "output_type": "stream",
          "text": [
            "/content/darknet\n"
          ],
          "name": "stdout"
        }
      ]
    },
    {
      "cell_type": "code",
      "metadata": {
        "id": "DooH3vaPUQz9"
      },
      "source": [
        "!make"
      ],
      "execution_count": null,
      "outputs": []
    },
    {
      "cell_type": "code",
      "metadata": {
        "id": "jy-CEoxphRWH"
      },
      "source": [
        "def detect(path):\n",
        "  import cv2\n",
        "  import matplotlib.pyplot as plt\n",
        "  %matplotlib inline\n",
        "  \n",
        "  image = path\n",
        "  \n",
        "  plt.imshow(np.real(image))\n",
        "  plt.show()"
      ],
      "execution_count": null,
      "outputs": []
    },
    {
      "cell_type": "code",
      "metadata": {
        "id": "410hdTRhYM5a"
      },
      "source": [
        "from websocket import create_connection\n",
        "\n",
        "import base64,cv2,threading,json,asyncio,websockets,random\n",
        "import numpy as np\n",
        "\n",
        "def connect(url,port):\n",
        "    ws = create_connection(\"ws://\"+str(url)+\":\"+str(port))\n",
        "    ws.send(\"Hello, World\")\n",
        "    result = ws.recv()\n",
        "    ws.close()\n",
        "    im_bytes = base64.b64decode(result.decode(\"utf-8\"))\n",
        "    im_arr = np.frombuffer(im_bytes, dtype=np.uint8)  # im_arr is one-dim Numpy array\n",
        "    img = cv2.imdecode(im_arr, flags=cv2.IMREAD_COLOR)\n",
        "    return img\n"
      ],
      "execution_count": null,
      "outputs": []
    },
    {
      "cell_type": "code",
      "metadata": {
        "id": "jxWEOYRSJrFO"
      },
      "source": [
        "import cv2\n",
        "import matplotlib.pyplot as plt\n",
        "import numpy as np\n",
        "%matplotlib inline\n",
        "\n",
        "\n",
        "\n",
        "def get_output_layers(net):\n",
        "    \n",
        "    layer_names = net.getLayerNames()\n",
        "    \n",
        "    output_layers = [layer_names[i[0] - 1] for i in net.getUnconnectedOutLayers()]\n",
        "\n",
        "    return output_layers\n",
        "\n",
        "\n",
        "def draw_prediction(img,classes, class_id, confidence, x, y, x_plus_w, y_plus_h):\n",
        "\n",
        "    print(classes[class_id])\n",
        "    label = str(classes[class_id])\n",
        "\n",
        "    aio.send_data(vegetable_and_fruit.key, label)\n",
        "\n",
        "    color = COLORS[class_id]\n",
        "\n",
        "    cv2.rectangle(img, (x,y), (x_plus_w,y_plus_h), color, 2)\n",
        "\n",
        "    cv2.putText(img, label, (x-10,y-10), cv2.FONT_HERSHEY_SIMPLEX, 0.5, color, 2)"
      ],
      "execution_count": null,
      "outputs": []
    },
    {
      "cell_type": "code",
      "metadata": {
        "colab": {
          "base_uri": "https://localhost:8080/"
        },
        "id": "z6MVJJ4jcpdH",
        "outputId": "49f6aea1-6e34-4335-fe4a-0c8a8a3d37ce"
      },
      "source": [
        "#%cd ../\n",
        "\n",
        "%cd ./content\n",
        "\n",
        "!wget https://pjreddie.com/media/files/yolov3.weights\n",
        "\n",
        "!cp ./darknet/cfg/yolov3.cfg .\n",
        "!cp ./darknet/data/coco.names ./classes.txt\n",
        "!ls"
      ],
      "execution_count": null,
      "outputs": [
        {
          "output_type": "stream",
          "text": [
            "[Errno 2] No such file or directory: './content'\n",
            "/content\n",
            "--2021-07-17 22:00:11--  https://pjreddie.com/media/files/yolov3.weights\n",
            "Resolving pjreddie.com (pjreddie.com)... 128.208.4.108\n",
            "Connecting to pjreddie.com (pjreddie.com)|128.208.4.108|:443... connected.\n",
            "HTTP request sent, awaiting response... 200 OK\n",
            "Length: 248007048 (237M) [application/octet-stream]\n",
            "Saving to: ‘yolov3.weights.2’\n",
            "\n",
            "yolov3.weights.2    100%[===================>] 236.52M   107MB/s    in 2.2s    \n",
            "\n",
            "2021-07-17 22:00:13 (107 MB/s) - ‘yolov3.weights.2’ saved [248007048/248007048]\n",
            "\n",
            "classes.txt  gdrive\t  yolov3.cfg\t  yolov3.weights.1\n",
            "darknet      sample_data  yolov3.weights  yolov3.weights.2\n"
          ],
          "name": "stdout"
        }
      ]
    },
    {
      "cell_type": "code",
      "metadata": {
        "colab": {
          "background_save": true
        },
        "id": "jdy95rdKJv3y"
      },
      "source": [
        "import time\n",
        "\n",
        "while True:\n",
        "    # image = cv2.imread('/content/gdrive/My Drive/resim.jpg')\n",
        "\n",
        "    server_url_data = aio.receive(server_url.key)\n",
        "    server_port_data = aio.receive(server_port.key)\n",
        "    try:\n",
        "      image=connect(str(server_url_data.value),int(server_port_data.value))\n",
        "    except Exception:\n",
        "      time.sleep(2)\n",
        "    # except WebSocketConnectionClosedException:\n",
        "    #   time.sleep(2)\n",
        "    #   pass\n",
        "\n",
        "    Width = image.shape[1]\n",
        "    Height = image.shape[0]\n",
        "    scale = 0.00392\n",
        "\n",
        "    classes = None\n",
        "\n",
        "    #with open('/mydrive/yolov3/last_train/classes.txt', 'r') as f:\n",
        "    with open('./classes.txt', 'r') as f:\n",
        "        classes = [line.strip() for line in f.readlines()]\n",
        "    COLORS = np.random.uniform(0, 255, size=(len(classes), 3))\n",
        "\n",
        "    # net = cv2.dnn.readNet('/mydrive/yolov3/last_train/yolov3_custom_last.weights', '/mydrive/yolov3/last_train/yolov3_custom.cfg')\n",
        "    net = cv2.dnn.readNet('./yolov3.weights', './yolov3.cfg')\n",
        "\n",
        "    blob = cv2.dnn.blobFromImage(image, scale, (416,416), (0,0,0), True, crop=False)\n",
        "\n",
        "    net.setInput(blob)\n",
        "\n",
        "    outs = net.forward(get_output_layers(net))\n",
        "\n",
        "    class_ids = []\n",
        "    confidences = []\n",
        "    boxes = []\n",
        "    conf_threshold = 0.5\n",
        "    nms_threshold = 0.4\n",
        "\n",
        "\n",
        "    for out in outs:\n",
        "        for detection in out:\n",
        "            scores = detection[5:]\n",
        "            class_id = np.argmax(scores)\n",
        "            confidence = scores[class_id]\n",
        "            if confidence > 0.5:\n",
        "                center_x = int(detection[0] * Width)\n",
        "                center_y = int(detection[1] * Height)\n",
        "                w = int(detection[2] * Width)\n",
        "                h = int(detection[3] * Height)\n",
        "                x = center_x - w / 2\n",
        "                y = center_y - h / 2\n",
        "                class_ids.append(class_id)\n",
        "                confidences.append(float(confidence))\n",
        "                boxes.append([x, y, w, h])\n",
        "\n",
        "\n",
        "    indices = cv2.dnn.NMSBoxes(boxes, confidences, conf_threshold, nms_threshold)\n",
        "\n",
        "    for i in indices:\n",
        "        i = i[0]\n",
        "        box = boxes[i]\n",
        "        x = box[0]\n",
        "        y = box[1]\n",
        "        w = box[2]\n",
        "        h = box[3]\n",
        "        draw_prediction(image,classes, class_ids[i], confidences[i], round(x), round(y), round(x+w), round(y+h))\n",
        "\n",
        "    detect(image)"
      ],
      "execution_count": null,
      "outputs": []
    }
  ]
}